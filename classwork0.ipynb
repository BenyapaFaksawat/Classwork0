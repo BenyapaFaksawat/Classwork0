{
  "nbformat": 4,
  "nbformat_minor": 0,
  "metadata": {
    "colab": {
      "provenance": [],
      "authorship_tag": "ABX9TyNR5wMccENzxfeQkAxkbC8z",
      "include_colab_link": true
    },
    "kernelspec": {
      "name": "python3",
      "display_name": "Python 3"
    },
    "language_info": {
      "name": "python"
    }
  },
  "cells": [
    {
      "cell_type": "markdown",
      "metadata": {
        "id": "view-in-github",
        "colab_type": "text"
      },
      "source": [
        "<a href=\"https://colab.research.google.com/github/BenyapaFaksawat/Classwork0/blob/main/classwork0.ipynb\" target=\"_parent\"><img src=\"https://colab.research.google.com/assets/colab-badge.svg\" alt=\"Open In Colab\"/></a>"
      ]
    },
    {
      "cell_type": "code",
      "execution_count": null,
      "metadata": {
        "colab": {
          "base_uri": "https://localhost:8080/"
        },
        "id": "mXHA_Ekn7Sw4",
        "outputId": "e097f372-c9a6-47eb-a8af-07d040f2d7b5"
      },
      "outputs": [
        {
          "output_type": "stream",
          "name": "stdout",
          "text": [
            "Counter({1: 2, 2: 1})\n",
            "Counter({1: 125281, 2: 61943, 3: 31380, 4: 15644, 5: 7760, 6: 3820, 7: 2008, 8: 997, 9: 485, 10: 253, 11: 120, 12: 48, 13: 34, 14: 14, 15: 7, 16: 5, 17: 2, 18: 2, 24: 1, 19: 1, 20: 1})\n"
          ]
        }
      ],
      "source": [
        "from collections import Counter\n",
        "\n",
        "def count_runs(sequence):\n",
        "    \"\"\"\n",
        "    Count the runs of consecutive 1's in a binary sequence.\n",
        "\n",
        "    Args:\n",
        "    sequence (list): A list of 0s and 1s representing Bernoulli trials.\n",
        "\n",
        "    Returns:\n",
        "    Counter: A dictionary-like object with the counts of each run length.\n",
        "    \"\"\"\n",
        "    run_counts = Counter()\n",
        "    current_run = 0\n",
        "\n",
        "    for value in sequence:\n",
        "        if value == 1:\n",
        "            current_run += 1\n",
        "        else:\n",
        "            if current_run > 0:\n",
        "                run_counts[current_run] += 1\n",
        "            current_run = 0\n",
        "\n",
        "    # If the sequence ends with a run of 1's, account for it\n",
        "    if current_run > 0:\n",
        "        run_counts[current_run] += 1\n",
        "\n",
        "    return run_counts\n",
        "\n",
        "# Example 1: Small input\n",
        "sequence = [0, 1, 0, 1, 1, 0, 0, 0, 0, 1]\n",
        "print(count_runs(sequence))\n",
        "\n",
        "# Example 2: Large input with random Bernoulli trials\n",
        "import numpy as np\n",
        "large_sequence = np.random.randint(0, 2, 1000000)\n",
        "print(count_runs(large_sequence))\n"
      ]
    },
    {
      "cell_type": "code",
      "source": [
        "import numpy as np\n",
        "from collections import Counter\n",
        "\n",
        "def count_runs(sequence):\n",
        "    \"\"\"\n",
        "    Count the runs of consecutive 1's in a binary sequence.\n",
        "\n",
        "    Args:\n",
        "    sequence (list): A list of 0s and 1s representing Bernoulli trials.\n",
        "\n",
        "    Returns:\n",
        "    Counter: A dictionary-like object with the counts of each run length.\n",
        "    \"\"\"\n",
        "    run_counts = Counter()\n",
        "    current_run = 0\n",
        "\n",
        "    for value in sequence:\n",
        "        if value == 1:\n",
        "            current_run += 1\n",
        "        else:\n",
        "            if current_run > 0:\n",
        "                run_counts[current_run] += 1\n",
        "            current_run = 0\n",
        "\n",
        "    if current_run > 0:\n",
        "        run_counts[current_run] += 1\n",
        "\n",
        "    return run_counts\n",
        "\n",
        "def run_prob(expts, n, k, p):\n",
        "    \"\"\"\n",
        "    Estimate the probability of observing at least one run of length k or more.\n",
        "\n",
        "    Args:\n",
        "    expts (int): Number of simulated experiments.\n",
        "    n (int): Number of Bernoulli trials in each experiment.\n",
        "    k (int): Minimum length of runs to count.\n",
        "    p (float): Success probability per trial.\n",
        "\n",
        "    Returns:\n",
        "    float: Estimated probability of observing at least one run of length k or more.\n",
        "    \"\"\"\n",
        "    successes = 0\n",
        "\n",
        "    for _ in range(expts):\n",
        "        sequence = np.random.choice([0, 1], size=n, p=[1-p, p])\n",
        "        run_counts = count_runs(sequence)\n",
        "        if any(run_length >= k for run_length in run_counts):\n",
        "            successes += 1\n",
        "\n",
        "    return successes / expts\n",
        "\n",
        "# Example 1: Probability for k=5, p=0.5, n=100\n",
        "prob_k5_p05 = run_prob(expts=100000, n=100, k=5, p=0.5)\n",
        "print(f\"Probability of at least one run of length 5 or more (p=0.5): {prob_k5_p05}\")\n",
        "\n",
        "# Example 2: Probability for k=7, p=0.7, n=100\n",
        "prob_k7_p07 = run_prob(expts=100000, n=100, k=7, p=0.7)\n",
        "print(f\"Probability of at least one run of length 7 or more (p=0.7): {prob_k7_p07}\")\n"
      ],
      "metadata": {
        "colab": {
          "base_uri": "https://localhost:8080/"
        },
        "id": "2MlqMkOP8P5E",
        "outputId": "a92fe6b5-0530-48bc-c202-4b46186438d0"
      },
      "execution_count": null,
      "outputs": [
        {
          "output_type": "stream",
          "name": "stdout",
          "text": [
            "Probability of at least one run of length 5 or more (p=0.5): 0.80834\n",
            "Probability of at least one run of length 7 or more (p=0.7): 0.94893\n"
          ]
        }
      ]
    }
  ]
}